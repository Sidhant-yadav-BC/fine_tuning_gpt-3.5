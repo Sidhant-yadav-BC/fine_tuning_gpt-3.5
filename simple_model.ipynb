{
 "cells": [
  {
   "cell_type": "code",
   "execution_count": 4,
   "metadata": {},
   "outputs": [
    {
     "name": "stderr",
     "output_type": "stream",
     "text": [
      "/Users/sidhantyadav/Desktop/pythonProjects/fine_tuning_openai/env/lib/python3.9/site-packages/urllib3/__init__.py:34: NotOpenSSLWarning: urllib3 v2.0 only supports OpenSSL 1.1.1+, currently the 'ssl' module is compiled with 'LibreSSL 2.8.3'. See: https://github.com/urllib3/urllib3/issues/3020\n",
      "  warnings.warn(\n"
     ]
    }
   ],
   "source": [
    "import openai\n",
    "import os\n",
    "from dotenv import load_dotenv"
   ]
  },
  {
   "cell_type": "code",
   "execution_count": null,
   "metadata": {},
   "outputs": [],
   "source": [
    "load_dotenv()"
   ]
  },
  {
   "cell_type": "code",
   "execution_count": 6,
   "metadata": {},
   "outputs": [],
   "source": [
    "if os.getenv(\"OPENAI_API_KEY\") is not None:\n",
    "    openai.api_key = os.getenv(\"OPENAI_API_KEY\")\n",
    "else:\n",
    "    print(\" Please specify open ai api key in env\")"
   ]
  },
  {
   "cell_type": "code",
   "execution_count": 21,
   "metadata": {},
   "outputs": [],
   "source": [
    "def generate_with_prompt(text):\n",
    "    \n",
    "    completion = openai.ChatCompletion.create(\n",
    "    model=\"gpt-3.5-turbo\",\n",
    "    messages=[\n",
    "        {\"role\": \"system\", \"content\": f\"\"\"Given a text, analyze the tone or sentiment of the text and return whether it is happy or sad.\n",
    "\n",
    "        Text: I had a great day today. I met some old friends and we had a lot of fun.\n",
    "\n",
    "        Sentiment: Happy\n",
    "\n",
    "        Explanation: The text expresses positive emotions such as \"great\", \"met\", and \"fun\". The text also implies satisfaction and enjoyment of the day.\n",
    "\n",
    "        text - ```{text}```\n",
    "        \n",
    "        return only the sentiment\n",
    "         \"\"\"}\n",
    "    ]\n",
    "    # prompt=f'''Analyse wether the tone or content expressed in following text is sad, happy or neutral:\n",
    "    # text: {text}'''\n",
    "    )\n",
    "\n",
    "    return completion.choices[0].message.content\n",
    "        "
   ]
  },
  {
   "cell_type": "code",
   "execution_count": null,
   "metadata": {},
   "outputs": [],
   "source": [
    "generate_with_prompt(\"Sdhant was working on a project, even though the project was completed after a lot of hardworrk it was rejected by board for cost consideration which made sidhant sad. But he was happy since he completed the project in time\")"
   ]
  },
  {
   "cell_type": "code",
   "execution_count": 13,
   "metadata": {},
   "outputs": [],
   "source": [
    "def generate_without_prompt(text):\n",
    "    \n",
    "    completion = openai.ChatCompletion.create(\n",
    "    model=\"gpt-3.5-turbo\",\n",
    "    messages=[\n",
    "        {\"role\": \"system\", \"content\": f\"\"\"Given a text, analyze the tone or sentiment of the text and return whether it is happy or sad.\n",
    "\n",
    "        Text: I had a great day today. I met some old friends and we had a lot of fun.\n",
    "\n",
    "        Sentiment: Happy\n",
    "\n",
    "        Explanation: The text expresses positive emotions such as \"great\", \"met\", and \"fun\". The text also implies satisfaction and enjoyment of the day.\n",
    "\n",
    "        text - ```{text}```\n",
    "        \n",
    "        return only the sentiment\n",
    "         \"\"\"}\n",
    "    ]\n",
    "    # prompt=f'''Analyse wether the tone or content expressed in following text is sad, happy or neutral:\n",
    "    # text: {text}'''\n",
    "    )\n",
    "\n",
    "    return completion.choices[0].message.content\n",
    "        "
   ]
  },
  {
   "cell_type": "code",
   "execution_count": 14,
   "metadata": {},
   "outputs": [
    {
     "name": "stdout",
     "output_type": "stream",
     "text": [
      "{\n",
      "  \"player\": \"Richardson\",\n",
      "  \"team\": null,\n",
      "  \"sport\": \"Track and Field\",\n",
      "  \"gender\": \"Female\"\n",
      "}\n"
     ]
    }
   ],
   "source": [
    "print(rest)"
   ]
  },
  {
   "cell_type": "code",
   "execution_count": null,
   "metadata": {},
   "outputs": [],
   "source": []
  }
 ],
 "metadata": {
  "kernelspec": {
   "display_name": "env",
   "language": "python",
   "name": "python3"
  },
  "language_info": {
   "codemirror_mode": {
    "name": "ipython",
    "version": 3
   },
   "file_extension": ".py",
   "mimetype": "text/x-python",
   "name": "python",
   "nbconvert_exporter": "python",
   "pygments_lexer": "ipython3",
   "version": "3.9.6"
  },
  "orig_nbformat": 4
 },
 "nbformat": 4,
 "nbformat_minor": 2
}
