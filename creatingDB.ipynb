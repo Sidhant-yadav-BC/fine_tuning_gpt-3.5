{
 "cells": [
  {
   "cell_type": "code",
   "execution_count": null,
   "metadata": {},
   "outputs": [],
   "source": [
    "dt = {\n",
    "    'Positive': [\n",
    "        \"Despite the challenges, their unyielding determination led to a successful product launch.\",\n",
    "        \"Amidst the chaos, her calm demeanor and quick thinking brought a sense of relief.\",\n",
    "        \"The surprise gift, though simple, carried a heartfelt sentiment that brightened her day.\",\n",
    "        \"The newlyweds' heartfelt vows left not a dry eye in the audience, evoking deep emotions.\",\n",
    "        \"Despite the setbacks, their collaborative efforts resulted in a beautifully crafted masterpiece.\",\n",
    "        \"The surprise visit from an old friend, though unexpected, brought immense joy.\",\n",
    "        \"The unexpected bonus, though small, brought a sense of financial relief.\"\n",
    "    ],\n",
    "    'Negative': [\n",
    "        \"Though he studied diligently, the low test score left him feeling frustrated and defeated.\",\n",
    "        \"Despite the promise of sunny weather, the unexpected rain dampened our outdoor plans.\",\n",
    "        \"Although the hike had stunning views, the steep terrain made it an exhausting experience.\",\n",
    "        \"Despite the initial excitement, the poorly organized event left attendees disappointed.\",\n",
    "        \"Though the restaurant had a renowned chef, the overpriced meal was a letdown.\",\n",
    "        \"Although meticulous planning, the cancelled flight disrupted our travel itinerary.\",\n",
    "        \"Although the film had a promising trailer, its weak plot left me unimpressed.\"\n",
    "    ],\n",
    "    'Neutral': [\n",
    "        \"As the sun dipped below the horizon, the sky transformed into a canvas of soothing colors.\",\n",
    "        \"As the conference attendees mingled, ideas and insights were exchanged with enthusiasm.\",\n",
    "        \"As the clock ticked, the sense of anticipation grew in the packed concert hall.\",\n",
    "        \"As the author read from their latest book, the audience hung on every word.\",\n",
    "        \"As the students worked tirelessly, the campus buzzed with focused energy.\",\n",
    "        \"As the symphony played, the auditorium was filled with a diverse array of sounds.\"\n",
    "    ]\n",
    "}\n"
   ]
  },
  {
   "cell_type": "code",
   "execution_count": null,
   "metadata": {},
   "outputs": [],
   "source": [
    "dt['Negative']"
   ]
  },
  {
   "cell_type": "code",
   "execution_count": null,
   "metadata": {},
   "outputs": [],
   "source": [
    "{\"messages\": [{\"role\": \"system\", \"content\": \"Given a text, analyze the tone or sentiment of the text and return whether it is positive, negative or neutral.\\nText: I had a great day today. I met some old friends and we had a lot of fun.\\nSentiment: Happy\\nExplanation: The text expresses positive emotions such as \\\"great\\\", \\\"met\\\", and \\\"fun\\\". The text also implies satisfaction and enjoyment of the day.\\ntext - ```{text}```\\nreturn only the sentiment\"}, {\"role\": \"user\", \"content\": \" Colts grant RB Taylor OK to seek trade\"}, {\"role\": \"assistant\", \"content\": \" neutral\"}]}"
   ]
  },
  {
   "cell_type": "code",
   "execution_count": null,
   "metadata": {},
   "outputs": [],
   "source": [
    "{\"messages\": [{\"role\": \"system\", \"content\": \"You are a sentiment analyzer, your jobis to anlayze the tone or sentiment of users query and return whether it is positive, negative or neutral.For example \\n: user: I had a great day today. I met some old friends and we had a lot of fun.\\nassistant: Positive\"}, {\"role\": \"user\", \"content\": \" Colts grant RB Taylor OK to seek trade\"}, {\"role\": \"assistant\", \"content\": \" neutral\"}]}"
   ]
  },
  {
   "cell_type": "code",
   "execution_count": null,
   "metadata": {},
   "outputs": [],
   "source": [
    "lt = []\n"
   ]
  },
  {
   "cell_type": "code",
   "execution_count": null,
   "metadata": {},
   "outputs": [],
   "source": [
    "for key in dt.keys():\n",
    "    for item in dt[key]:\n",
    "        item.replace('''\"''','''\\'''')\n",
    "        lt.append({\"messages\": [{\"role\": \"system\", \"content\": \"You are a sentiment analyzer, your job is to anlayze the tone or sentiment of users query and return whether it is positive, negative or neutral.\"}, {\"role\": \"user\", \"content\": f\"\"\"{item}\"\"\"}, {\"role\": \"assistant\", \"content\": f\"\"\"{key}\"\"\"}]})\n",
    "        "
   ]
  },
  {
   "cell_type": "code",
   "execution_count": null,
   "metadata": {},
   "outputs": [],
   "source": [
    "with open(\"./fine.json\", 'w') as file:\n",
    "    for item in lt:\n",
    "        file.write(str(item))\n",
    "        \n",
    "         "
   ]
  },
  {
   "cell_type": "code",
   "execution_count": null,
   "metadata": {},
   "outputs": [],
   "source": [
    "for i, item in enumerate(lt):\n",
    "    if(i == 0 or i == 1):\n",
    "        print(item)"
   ]
  },
  {
   "cell_type": "code",
   "execution_count": null,
   "metadata": {},
   "outputs": [],
   "source": []
  }
 ],
 "metadata": {
  "kernelspec": {
   "display_name": "env",
   "language": "python",
   "name": "python3"
  },
  "language_info": {
   "codemirror_mode": {
    "name": "ipython",
    "version": 3
   },
   "file_extension": ".py",
   "mimetype": "text/x-python",
   "name": "python",
   "nbconvert_exporter": "python",
   "pygments_lexer": "ipython3",
   "version": "3.9.6"
  },
  "orig_nbformat": 4
 },
 "nbformat": 4,
 "nbformat_minor": 2
}
